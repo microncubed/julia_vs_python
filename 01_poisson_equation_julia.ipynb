{
 "cells": [
  {
   "cell_type": "markdown",
   "id": "c1f2e580",
   "metadata": {},
   "source": [
    "# 01_poisson_equation_julia\n",
    "\n",
    "Numerically solves the Poisson equation with the intention of benchmarking Julia against Python."
   ]
  },
  {
   "cell_type": "code",
   "execution_count": 1,
   "id": "a4212852",
   "metadata": {},
   "outputs": [],
   "source": [
    "#using Pkg\n",
    "\n",
    "#Pkg.add(\"Plots\")\n",
    "#Pkg.add(\"SparseArrays\")\n",
    "#Pkg.add(\"IterativeSolvers\")\n",
    "#Pkg.add(\"BenchmarkTools\")\n",
    "#Pkg.add(\"DelimitedFiles\")\n",
    "using Plots, SparseArrays, IterativeSolvers, BenchmarkTools,Tables,DelimitedFiles\n",
    "\n",
    "\n",
    "include(\"functions.jl\");"
   ]
  },
  {
   "cell_type": "markdown",
   "id": "01ddb161",
   "metadata": {},
   "source": [
    "## Solver for the Poisson equation"
   ]
  },
  {
   "cell_type": "code",
   "execution_count": 2,
   "id": "a217dde2",
   "metadata": {},
   "outputs": [],
   "source": [
    "\"\"\"\n",
    "    benchmark_poisson(dims,L,tol,direct)\n",
    "\n",
    "Solves the Poisson equation over a range of dimensions in the case of a known solution.\n",
    "\n",
    "Parameters\n",
    "----------\n",
    "dims int: the number of grid points in x and y (square matrix)\n",
    "L float: the linear dimension in x and y\n",
    "tol float: the relative tolerance for the iterative, CG solver\n",
    "direct Boolean: if true, a direct solver is used, if false an iterative CG solver\n",
    "\n",
    "Outputs\n",
    "----------\n",
    "times array: mean runtimes\n",
    "norms array: L2 norms\n",
    "us array: the actual numerical solutions\n",
    "\"\"\"\n",
    "\n",
    "function benchmark_poisson(dims,L,tol,direct)    \n",
    "    norms = []\n",
    "    times = []\n",
    "    us = []\n",
    "    for dim in dims\n",
    "        u_a,Q_in = source_term(dim,dim,L,L)\n",
    "        A = build_matrix(dim,dim,L,L)\n",
    "        if direct == true\n",
    "            a = @benchmark solve_matrix($dim,$dim,$A,$Q_in)    \n",
    "            n,logs = solve_matrix(dim,dim,A,Q_in)\n",
    "            u = wrap(dim,dim,n)\n",
    "        else\n",
    "            a = @benchmark solve_matrix_cg($dim,$dim,$A,$Q_in,$tol)    \n",
    "            n,logs = solve_matrix_cg(dim,dim,A,Q_in,tol)\n",
    "            u = wrap(dim,dim,n)\n",
    "        end\n",
    "        norm = l2_norm(dim,dim,u,u_a)\n",
    "        push!(times,mean(a.times))\n",
    "        push!(norms,norm)\n",
    "        push!(us,u)\n",
    "    end\n",
    "return times,norms,us\n",
    "end;"
   ]
  },
  {
   "cell_type": "markdown",
   "id": "ae2de992",
   "metadata": {},
   "source": [
    "## Solve the Poisson equation\n",
    "The dims array defines the range of dimensions to solve the equation for"
   ]
  },
  {
   "cell_type": "code",
   "execution_count": 3,
   "id": "e6351a99",
   "metadata": {},
   "outputs": [],
   "source": [
    "dims = [11,21,41,81,161,321]\n",
    "L = 1\n",
    "tol = 1e-8\n",
    "times_cg,norms_cg,us_cg = benchmark_poisson(dims,L,tol,false);\n",
    "times,norms,us = benchmark_poisson(dims,L,tol,true);"
   ]
  },
  {
   "cell_type": "markdown",
   "id": "65c5cff0",
   "metadata": {},
   "source": [
    "## Print the data to file"
   ]
  },
  {
   "cell_type": "code",
   "execution_count": 5,
   "id": "7bcc3309",
   "metadata": {},
   "outputs": [],
   "source": [
    "#Write the runtimes and L2 norms to file\n",
    "file_names = [\"times_cg\",\"norms_cg\",\"times\",\"norms\"]\n",
    "files = [times_cg,norms_cg,times,norms]\n",
    "for i in range(1,length(file_names))\n",
    "    open(file_names[i]*\"_jl.txt\", \"w\") do io\n",
    "         writedlm(io, [files[i]],',')\n",
    "    end\n",
    "end\n",
    "\n",
    "\n",
    "#Write the simulation data to file\n",
    "i=0\n",
    "for u in us\n",
    "    writedlm(\"us_jl_\"*string(i)*\".csv\", Tables.table(u),',')\n",
    "    i+=1\n",
    "end\n",
    "\n",
    "i=0\n",
    "for u in us_cg\n",
    "    writedlm(\"us_cg_jl_\"*string(i)*\".csv\", Tables.table(u),',')\n",
    "    i+=1\n",
    "end"
   ]
  }
 ],
 "metadata": {
  "kernelspec": {
   "display_name": "Julia 1.7.2",
   "language": "julia",
   "name": "julia-1.7"
  },
  "language_info": {
   "file_extension": ".jl",
   "mimetype": "application/julia",
   "name": "julia",
   "version": "1.7.2"
  }
 },
 "nbformat": 4,
 "nbformat_minor": 5
}
