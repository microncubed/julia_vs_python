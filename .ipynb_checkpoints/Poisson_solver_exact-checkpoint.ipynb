{
 "cells": [
  {
   "cell_type": "code",
   "execution_count": 1,
   "metadata": {},
   "outputs": [],
   "source": [
    "import numpy as np\n",
    "import matplotlib.pyplot as plt\n",
    "plt.rcParams['font.family'] = 'serif'\n",
    "plt.rcParams['font.size'] = 16\n",
    "from functions import manufacture_source_term,create_poisson_matrix,\\\n",
    "solve_poisson,L2_norm,wrap"
   ]
  },
  {
   "cell_type": "code",
   "execution_count": 2,
   "metadata": {},
   "outputs": [],
   "source": [
    "def benchmark_poisson(dims,L,tol,direct):\n",
    "\n",
    "\n",
    "    # Create an empty list to record the error on each grid.\n",
    "    norms = []\n",
    "    times = []\n",
    "    us = []\n",
    "\n",
    "    # Compute the solution and error for each grid size.\n",
    "    for dim in dims:\n",
    "        q,u_a = manufacture_source_term(dim,dim,L,L)\n",
    "        A = create_poisson_matrix(dim,dim,L,L)\n",
    "        a = %timeit -o solve_poisson(dim,dim,A,q,direct,tol)\n",
    "        n = solve_poisson(dim,dim,A,q,direct,tol)\n",
    "        u = wrap(dim,dim,n)\n",
    "        times.append(a.average)\n",
    "        norm = L2_norm(u_a,u)\n",
    "        norms.append(norm)\n",
    "        us.append(u)\n",
    "        \n",
    "    return times,norms,us"
   ]
  },
  {
   "cell_type": "code",
   "execution_count": null,
   "metadata": {},
   "outputs": [
    {
     "name": "stdout",
     "output_type": "stream",
     "text": [
      "181 µs ± 14.6 µs per loop (mean ± std. dev. of 7 runs, 10000 loops each)\n",
      "788 µs ± 12.6 µs per loop (mean ± std. dev. of 7 runs, 1000 loops each)\n",
      "3.59 ms ± 87 µs per loop (mean ± std. dev. of 7 runs, 100 loops each)\n",
      "18.8 ms ± 386 µs per loop (mean ± std. dev. of 7 runs, 100 loops each)\n"
     ]
    }
   ],
   "source": [
    "dims = [11,21,41,81,161]\n",
    "L = 1\n",
    "tol = 1e-8\n",
    "times_cg,norms_cg,us_cg = benchmark_poisson(dims,L,tol,False);\n",
    "times,norms,us = benchmark_poisson(dims,L,tol,True);"
   ]
  },
  {
   "cell_type": "code",
   "execution_count": null,
   "metadata": {},
   "outputs": [],
   "source": []
  }
 ],
 "metadata": {
  "kernelspec": {
   "display_name": "Python 3 (ipykernel)",
   "language": "python",
   "name": "python3"
  },
  "language_info": {
   "codemirror_mode": {
    "name": "ipython",
    "version": 3
   },
   "file_extension": ".py",
   "mimetype": "text/x-python",
   "name": "python",
   "nbconvert_exporter": "python",
   "pygments_lexer": "ipython3",
   "version": "3.8.5"
  }
 },
 "nbformat": 4,
 "nbformat_minor": 4
}
